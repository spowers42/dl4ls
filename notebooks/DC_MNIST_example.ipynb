{
 "cells": [
  {
   "cell_type": "code",
   "execution_count": 81,
   "metadata": {},
   "outputs": [],
   "source": [
    "from sklearn.preprocessing import OneHotEncoder\n",
    "import tensorflow as tf\n",
    "mnist = tf.keras.datasets.mnist\n",
    "import deepchem as dc\n",
    "import deepchem.models.tensorgraph.layers as layers\n",
    "import matplotlib.pyplot as plt\n",
    "import seaborn as sbn"
   ]
  },
  {
   "cell_type": "markdown",
   "metadata": {},
   "source": [
    "While the book uses the examples.tutorials.mnists input_data method, we will use the keras mnist data method.  First, the examples are deprecated, and might not work in the future.  Additionally this eliminates the need to manually download and store these datasets.  Also the keras version makes a nice test/train split for us.  :)"
   ]
  },
  {
   "cell_type": "markdown",
   "metadata": {},
   "source": [
    "# Data Download and Visualization\n",
    "The MNIST dataset is pretty clean, so there is no need for any real preprocessing like an autoencoder or the such to make the network perform well.  It might be useful for near 100% accuracy, but for this we will just use the raw input data"
   ]
  },
  {
   "cell_type": "code",
   "execution_count": 114,
   "metadata": {},
   "outputs": [],
   "source": [
    "expected_outputs = 10\n",
    "(X_train, y_train), (X_test, y_test) = mnist.load_data()\n",
    "one_hot = OneHotEncoder(sparse=False)\n",
    "y_train = one_hot.fit_transform(y_train.reshape(-1,1))\n",
    "y_labels = y_test\n",
    "y_test = one_hot.transform(y_test.reshape(-1,1))\n",
    "train = dc.data.NumpyDataset(X_train, y_train)\n",
    "test = dc.data.NumpyDataset(X_test,y_test)"
   ]
  },
  {
   "cell_type": "code",
   "execution_count": 115,
   "metadata": {},
   "outputs": [
    {
     "data": {
      "text/plain": [
       "<matplotlib.image.AxesImage at 0x7f61e37f10f0>"
      ]
     },
     "execution_count": 115,
     "metadata": {},
     "output_type": "execute_result"
    },
    {
     "data": {
      "image/png": "[encoded data removed]",
      "text/plain": [
       "<Figure size 432x288 with 1 Axes>"
      ]
     },
     "metadata": {
      "needs_background": "light"
     },
     "output_type": "display_data"
    }
   ],
   "source": [
    "idx = 0\n",
    "plt.title(label=y_labels[idx])\n",
    "plt.imshow(X_train[idx], cmap='gray')"
   ]
  },
  {
   "cell_type": "markdown",
   "metadata": {},
   "source": [
    "# Model Definition"
   ]
  },
  {
   "cell_type": "code",
   "execution_count": 116,
   "metadata": {},
   "outputs": [],
   "source": [
    "model = dc.models.TensorGraph(model_dir=\"data\")\n",
    "# Define the Input and Output layers, which are flat\n",
    "feature = layers.Feature(shape=(None, 28, 28))\n",
    "labels = layers.Label(shape=(None, expected_outputs))\n",
    "\n",
    "# General Model layers\n",
    "#make_image = layers.Reshape(shape=(None, 28, 28), in_layer=feature)\n",
    "conv2d_1 = layers.Conv2D(num_outputs=32, activation_fn=tf.nn.relu, in_layers=feature)\n",
    "conv2d_2 = layers.Conv2D(num_outputs=64, activation_fn=tf.nn.relu, in_layers=conv2d_1)\n",
    "flatten = layers.Flatten(in_layers=conv2d_2)\n",
    "dense1 =  layers.Dense(out_channels=1024, activation_fn=tf.nn.relu, in_layers=flatten)\n",
    "dense2 = layers.Dense(out_channels=expected_outputs, activation_fn=None, in_layers=dense1)\n",
    "\n",
    "# Loss and scoring\n",
    "# softmax layer takes labels and predicted values\n",
    "smce = layers.SoftMaxCrossEntropy(in_layers=[labels, dense2])\n",
    "loss = layers.ReduceMean(in_layers=smce)\n",
    "model.set_loss(loss)\n",
    "output = layers.SoftMax(in_layers=dense2)\n",
    "model.add_output(output)"
   ]
  },
  {
   "cell_type": "markdown",
   "metadata": {},
   "source": [
    "# Training Time"
   ]
  },
  {
   "cell_type": "code",
   "execution_count": null,
   "metadata": {},
   "outputs": [],
   "source": [
    "model.fit(train, nb_epoch=10)"
   ]
  },
  {
   "cell_type": "markdown",
   "metadata": {},
   "source": [
    "# Metrics "
   ]
  },
  {
   "cell_type": "code",
   "execution_count": null,
   "metadata": {},
   "outputs": [],
   "source": [
    "metric = dc.metrics.Metric(dc.metrics.accuracy_score)\n",
    "train_scores = model.evaluate(train_dataset, [metric])\n",
    "test_scores = model.evaulate(test_dataset, [metric])\n",
    "print(train_scores, test_scores)"
   ]
  },
  {
   "cell_type": "code",
   "execution_count": null,
   "metadata": {},
   "outputs": [],
   "source": []
  }
 ],
 "metadata": {
  "kernelspec": {
   "display_name": "Python 3",
   "language": "python",
   "name": "python3"
  },
  "language_info": {
   "codemirror_mode": {
    "name": "ipython",
    "version": 3
   },
   "file_extension": ".py",
   "mimetype": "text/x-python",
   "name": "python",
   "nbconvert_exporter": "python",
   "pygments_lexer": "ipython3",
   "version": "3.7.3"
  }
 },
 "nbformat": 4,
 "nbformat_minor": 4
}
